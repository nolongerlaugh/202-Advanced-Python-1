{
 "cells": [
  {
   "cell_type": "code",
   "execution_count": 2,
   "id": "9f3a0f22",
   "metadata": {},
   "outputs": [],
   "source": [
    "def read_file(filename):\n",
    "    with open(filename, 'r') as f:\n",
    "        for s in f:\n",
    "            yield s"
   ]
  },
  {
   "cell_type": "code",
   "execution_count": 3,
   "id": "f31d1dcb",
   "metadata": {},
   "outputs": [],
   "source": [
    "def count_mode(s):\n",
    "    s = s.split('Found ')\n",
    "    if len(s) < 2:\n",
    "        return 0\n",
    "    s = s[1].split('modes')\n",
    "    if len(s) < 2:\n",
    "        return 0\n",
    "    try:\n",
    "        return int(s[0])\n",
    "    except(ValueError):\n",
    "        return 0"
   ]
  },
  {
   "cell_type": "code",
   "execution_count": 4,
   "id": "ab3c78a5",
   "metadata": {},
   "outputs": [],
   "source": [
    "def count_radial_mode(s):\n",
    "    s = s.split('Found ')\n",
    "    if len(s) < 2:\n",
    "        return 0\n",
    "    s = s[1].split('radial mode(s)')\n",
    "    if len(s) < 2:\n",
    "        return 0\n",
    "    try:\n",
    "        return int(s[0])\n",
    "    except(ValueError):\n",
    "        return 0"
   ]
  },
  {
   "cell_type": "code",
   "execution_count": 5,
   "id": "0d40edf3",
   "metadata": {},
   "outputs": [],
   "source": [
    "fun_count = 0\n",
    "mode_count = 0\n",
    "radial_mode_count = 0\n",
    "sol_dict = {}\n",
    "for s in read_file('log.txt'):\n",
    "    module = s.split(' - ')\n",
    "    if len(module) != 2:\n",
    "        continue\n",
    "    module = module[1].split(' [')\n",
    "    if len(module) != 2:\n",
    "        continue\n",
    "    type_message = module[1].split('] ')\n",
    "    if len(type_message) < 2 or not type_message[0].strip() in ['DEBUG', 'INFO', 'WARNING', 'ERROR']:\n",
    "        continue\n",
    "    module = module[0]\n",
    "    message = '] '.join(type_message[1:])\n",
    "    type_message = type_message[0].strip()\n",
    "    fun_count += 'fun:' in message\n",
    "    mode_count += count_mode(message)\n",
    "    radial_mode_count += count_radial_mode(message)\n",
    "    if not module in sol_dict:\n",
    "        sol_dict[module] = {'DEBUG': 0, 'INFO': 0, 'WARNING': 0, 'ERROR': 0}\n",
    "    sol_dict[module][type_message] += 1"
   ]
  },
  {
   "cell_type": "code",
   "execution_count": 6,
   "id": "89058e8c",
   "metadata": {},
   "outputs": [
    {
     "data": {
      "text/plain": [
       "{'Code.pyMMF': {'DEBUG': 40, 'INFO': 60, 'WARNING': 0, 'ERROR': 0},\n",
       " 'pyMMF.core': {'DEBUG': 428, 'INFO': 0, 'WARNING': 0, 'ERROR': 1},\n",
       " 'pyMMF.solv': {'DEBUG': 0, 'INFO': 7834, 'WARNING': 8881, 'ERROR': 5631}}"
      ]
     },
     "execution_count": 6,
     "metadata": {},
     "output_type": "execute_result"
    }
   ],
   "source": [
    "sol_dict"
   ]
  },
  {
   "cell_type": "code",
   "execution_count": 7,
   "id": "8f8ed548",
   "metadata": {},
   "outputs": [
    {
     "data": {
      "text/plain": [
       "50"
      ]
     },
     "execution_count": 7,
     "metadata": {},
     "output_type": "execute_result"
    }
   ],
   "source": [
    "fun_count"
   ]
  },
  {
   "cell_type": "code",
   "execution_count": 8,
   "id": "a819a284",
   "metadata": {
    "scrolled": true
   },
   "outputs": [
    {
     "data": {
      "text/plain": [
       "17708"
      ]
     },
     "execution_count": 8,
     "metadata": {},
     "output_type": "execute_result"
    }
   ],
   "source": [
    "mode_count"
   ]
  },
  {
   "cell_type": "code",
   "execution_count": 9,
   "id": "b836cafd",
   "metadata": {},
   "outputs": [
    {
     "data": {
      "text/plain": [
       "7679"
      ]
     },
     "execution_count": 9,
     "metadata": {},
     "output_type": "execute_result"
    }
   ],
   "source": [
    "radial_mode_count"
   ]
  },
  {
   "cell_type": "code",
   "execution_count": null,
   "id": "ff41c248",
   "metadata": {},
   "outputs": [],
   "source": []
  }
 ],
 "metadata": {
  "kernelspec": {
   "display_name": "Python 3 (ipykernel)",
   "language": "python",
   "name": "python3"
  },
  "language_info": {
   "codemirror_mode": {
    "name": "ipython",
    "version": 3
   },
   "file_extension": ".py",
   "mimetype": "text/x-python",
   "name": "python",
   "nbconvert_exporter": "python",
   "pygments_lexer": "ipython3",
   "version": "3.9.5"
  }
 },
 "nbformat": 4,
 "nbformat_minor": 5
}
